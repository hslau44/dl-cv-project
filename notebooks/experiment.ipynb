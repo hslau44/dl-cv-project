{
 "cells": [
  {
   "cell_type": "code",
   "execution_count": 3,
   "id": "629ff230-b705-4962-a0e6-1d190bcf3ae5",
   "metadata": {
    "tags": []
   },
   "outputs": [
    {
     "name": "stderr",
     "output_type": "stream",
     "text": [
      "/opt/conda/lib/python3.8/site-packages/tqdm/auto.py:22: TqdmWarning: IProgress not found. Please update jupyter and ipywidgets. See https://ipywidgets.readthedocs.io/en/stable/user_install.html\n",
      "  from .autonotebook import tqdm as notebook_tqdm\n"
     ]
    }
   ],
   "source": [
    "from src.train import objective\n",
    "from src.utils import write_json"
   ]
  },
  {
   "cell_type": "code",
   "execution_count": 28,
   "id": "c675ef6a-a717-42c8-8c6c-41c5b894efa5",
   "metadata": {
    "tags": []
   },
   "outputs": [],
   "source": [
    "def get_example_configs():\n",
    "    exp_name = 'basic_example_2'\n",
    "    root_dir = f\"./outputs/{exp_name}\"\n",
    "    objective_metric = 'train_accuracy'\n",
    "    objective_mode = \"max\"\n",
    "    configs = {\n",
    "        # init args pairs\n",
    "        'dataloader': {\n",
    "            'wce.WCEStandardNpyDataloader': {\n",
    "                'dataset_dir': './data/std_npy',\n",
    "                'batch_size': 32,\n",
    "                'num_workers': 2,\n",
    "                'drop_last': True,\n",
    "        }},\n",
    "        'model': {\n",
    "            'wce.WCETransferModel':{\n",
    "                'base_model': 'alexnet', \n",
    "                'num_proj': 2, \n",
    "                'hid_feature': 128, \n",
    "                'hid_bias': False,\n",
    "                'hid_activation': 'relu',\n",
    "        }},\n",
    "        'pl_module': {\n",
    "            'train.SupervisedClfModule': {\n",
    "                'optim_name': 'adam',\n",
    "                'lr': 1e-4,\n",
    "        }},\n",
    "        # 'logger': {\n",
    "        #     'train.CSVLogger': {\n",
    "        #         'save_dir': root_dir, \n",
    "        #         'name':\"csv_log\",\n",
    "        # }},\n",
    "        # 'callbacks': {\n",
    "        #     'list': { \n",
    "        #         1: {'train.EarlyStopping': {\n",
    "        #                 'monitor':objective_metric, \n",
    "        #                 'mode': objective_mode,\n",
    "        #             }\n",
    "        #         }\n",
    "        #     }\n",
    "        # },\n",
    "        #### pl.Trainer args\n",
    "        'default_root_dir': root_dir,\n",
    "        'max_epochs':2,\n",
    "        # 'accelerator':\"gpu\", \n",
    "        # 'devices':-1,\n",
    "        # 'fast_dev_run':False,\n",
    "        #### others\n",
    "        'objective_metric': objective_metric,\n",
    "    }\n",
    "    return configs"
   ]
  },
  {
   "cell_type": "code",
   "execution_count": 29,
   "id": "e3fe21a7-9c58-48a8-adb5-f35f3cd35ed7",
   "metadata": {
    "tags": []
   },
   "outputs": [
    {
     "name": "stderr",
     "output_type": "stream",
     "text": [
      "GPU available: False, used: False\n",
      "TPU available: False, using: 0 TPU cores\n",
      "IPU available: False, using: 0 IPUs\n",
      "HPU available: False, using: 0 HPUs\n",
      "Missing logger folder: outputs/basic_example_2/lightning_logs\n",
      "\n",
      "  | Name      | Type               | Params\n",
      "-------------------------------------------------\n",
      "0 | model     | WCETransferModel   | 61.2 M\n",
      "1 | lost_func | CrossEntropyLoss   | 0     \n",
      "2 | metric    | MulticlassAccuracy | 0     \n",
      "-------------------------------------------------\n",
      "61.2 M    Trainable params\n",
      "0         Non-trainable params\n",
      "61.2 M    Total params\n",
      "244.917   Total estimated model params size (MB)\n"
     ]
    },
    {
     "name": "stdout",
     "output_type": "stream",
     "text": [
      "Epoch 0: 100%|██████████| 100/100 [04:03<00:00,  2.43s/it, v_num=0]        \n",
      "Validation: 0it [00:00, ?it/s]\u001b[A\n",
      "Validation:   0%|          | 0/62 [00:00<?, ?it/s]\u001b[A\n",
      "Validation DataLoader 0:   0%|          | 0/62 [00:00<?, ?it/s]\u001b[A\n",
      "Validation DataLoader 0:   2%|▏         | 1/62 [00:00<00:39,  1.56it/s]\u001b[A\n",
      "Validation DataLoader 0:   3%|▎         | 2/62 [00:01<00:36,  1.63it/s]\u001b[A\n",
      "Validation DataLoader 0:   5%|▍         | 3/62 [00:01<00:35,  1.67it/s]\u001b[A\n",
      "Validation DataLoader 0:   6%|▋         | 4/62 [00:02<00:34,  1.68it/s]\u001b[A\n",
      "Validation DataLoader 0:   8%|▊         | 5/62 [00:02<00:33,  1.69it/s]\u001b[A\n",
      "Validation DataLoader 0:  10%|▉         | 6/62 [00:03<00:33,  1.68it/s]\u001b[A\n",
      "Validation DataLoader 0:  11%|█▏        | 7/62 [00:04<00:32,  1.67it/s]\u001b[A\n",
      "Validation DataLoader 0:  13%|█▎        | 8/62 [00:04<00:32,  1.66it/s]\u001b[A\n",
      "Validation DataLoader 0:  15%|█▍        | 9/62 [00:05<00:31,  1.66it/s]\u001b[A\n",
      "Validation DataLoader 0:  16%|█▌        | 10/62 [00:06<00:31,  1.65it/s]\u001b[A\n",
      "Validation DataLoader 0:  18%|█▊        | 11/62 [00:06<00:30,  1.65it/s]\u001b[A\n",
      "Validation DataLoader 0:  19%|█▉        | 12/62 [00:07<00:30,  1.64it/s]\u001b[A\n",
      "Validation DataLoader 0:  21%|██        | 13/62 [00:07<00:29,  1.63it/s]\u001b[A\n",
      "Validation DataLoader 0:  23%|██▎       | 14/62 [00:08<00:29,  1.63it/s]\u001b[A\n",
      "Validation DataLoader 0:  24%|██▍       | 15/62 [00:09<00:28,  1.63it/s]\u001b[A\n",
      "Validation DataLoader 0:  26%|██▌       | 16/62 [00:09<00:28,  1.63it/s]\u001b[A\n",
      "Validation DataLoader 0:  27%|██▋       | 17/62 [00:10<00:27,  1.63it/s]\u001b[A\n",
      "Validation DataLoader 0:  29%|██▉       | 18/62 [00:11<00:27,  1.63it/s]\u001b[A\n",
      "Validation DataLoader 0:  31%|███       | 19/62 [00:11<00:26,  1.63it/s]\u001b[A\n",
      "Validation DataLoader 0:  32%|███▏      | 20/62 [00:12<00:25,  1.63it/s]\u001b[A\n",
      "Validation DataLoader 0:  34%|███▍      | 21/62 [00:12<00:25,  1.62it/s]\u001b[A\n",
      "Validation DataLoader 0:  35%|███▌      | 22/62 [00:13<00:24,  1.62it/s]\u001b[A\n",
      "Validation DataLoader 0:  37%|███▋      | 23/62 [00:14<00:24,  1.62it/s]\u001b[A\n",
      "Validation DataLoader 0:  39%|███▊      | 24/62 [00:14<00:23,  1.62it/s]\u001b[A\n",
      "Validation DataLoader 0:  40%|████      | 25/62 [00:15<00:22,  1.62it/s]\u001b[A\n",
      "Validation DataLoader 0:  42%|████▏     | 26/62 [00:16<00:22,  1.62it/s]\u001b[A\n",
      "Validation DataLoader 0:  44%|████▎     | 27/62 [00:16<00:21,  1.62it/s]\u001b[A\n",
      "Validation DataLoader 0:  45%|████▌     | 28/62 [00:17<00:20,  1.62it/s]\u001b[A\n",
      "Validation DataLoader 0:  47%|████▋     | 29/62 [00:17<00:20,  1.62it/s]\u001b[A\n",
      "Validation DataLoader 0:  48%|████▊     | 30/62 [00:18<00:19,  1.62it/s]\u001b[A\n",
      "Validation DataLoader 0:  50%|█████     | 31/62 [00:19<00:19,  1.62it/s]\u001b[A\n",
      "Validation DataLoader 0:  52%|█████▏    | 32/62 [00:19<00:18,  1.62it/s]\u001b[A\n",
      "Validation DataLoader 0:  53%|█████▎    | 33/62 [00:20<00:17,  1.62it/s]\u001b[A\n",
      "Validation DataLoader 0:  55%|█████▍    | 34/62 [00:21<00:17,  1.62it/s]\u001b[A\n",
      "Validation DataLoader 0:  56%|█████▋    | 35/62 [00:21<00:16,  1.62it/s]\u001b[A\n",
      "Validation DataLoader 0:  58%|█████▊    | 36/62 [00:22<00:16,  1.62it/s]\u001b[A\n",
      "Validation DataLoader 0:  60%|█████▉    | 37/62 [00:22<00:15,  1.62it/s]\u001b[A\n",
      "Validation DataLoader 0:  61%|██████▏   | 38/62 [00:23<00:14,  1.62it/s]\u001b[A\n",
      "Validation DataLoader 0:  63%|██████▎   | 39/62 [00:24<00:14,  1.62it/s]\u001b[A\n",
      "Validation DataLoader 0:  65%|██████▍   | 40/62 [00:24<00:13,  1.62it/s]\u001b[A\n",
      "Validation DataLoader 0:  66%|██████▌   | 41/62 [00:25<00:12,  1.62it/s]\u001b[A\n",
      "Validation DataLoader 0:  68%|██████▊   | 42/62 [00:25<00:12,  1.62it/s]\u001b[A\n",
      "Validation DataLoader 0:  69%|██████▉   | 43/62 [00:26<00:11,  1.62it/s]\u001b[A\n",
      "Validation DataLoader 0:  71%|███████   | 44/62 [00:27<00:11,  1.62it/s]\u001b[A\n",
      "Validation DataLoader 0:  73%|███████▎  | 45/62 [00:27<00:10,  1.62it/s]\u001b[A\n",
      "Validation DataLoader 0:  74%|███████▍  | 46/62 [00:28<00:09,  1.61it/s]\u001b[A\n",
      "Validation DataLoader 0:  76%|███████▌  | 47/62 [00:29<00:09,  1.62it/s]\u001b[A\n",
      "Validation DataLoader 0:  77%|███████▋  | 48/62 [00:29<00:08,  1.62it/s]\u001b[A\n",
      "Validation DataLoader 0:  79%|███████▉  | 49/62 [00:30<00:08,  1.62it/s]\u001b[A\n",
      "Validation DataLoader 0:  81%|████████  | 50/62 [00:30<00:07,  1.62it/s]\u001b[A\n",
      "Validation DataLoader 0:  82%|████████▏ | 51/62 [00:31<00:06,  1.62it/s]\u001b[A\n",
      "Validation DataLoader 0:  84%|████████▍ | 52/62 [00:32<00:06,  1.62it/s]\u001b[A\n",
      "Validation DataLoader 0:  85%|████████▌ | 53/62 [00:32<00:05,  1.61it/s]\u001b[A\n",
      "Validation DataLoader 0:  87%|████████▋ | 54/62 [00:33<00:04,  1.62it/s]\u001b[A\n",
      "Validation DataLoader 0:  89%|████████▊ | 55/62 [00:34<00:04,  1.62it/s]\u001b[A\n",
      "Validation DataLoader 0:  90%|█████████ | 56/62 [00:34<00:03,  1.62it/s]\u001b[A\n",
      "Validation DataLoader 0:  92%|█████████▏| 57/62 [00:35<00:03,  1.62it/s]\u001b[A\n",
      "Validation DataLoader 0:  94%|█████████▎| 58/62 [00:35<00:02,  1.62it/s]\u001b[A\n",
      "Validation DataLoader 0:  95%|█████████▌| 59/62 [00:36<00:01,  1.62it/s]\u001b[A\n",
      "Validation DataLoader 0:  97%|█████████▋| 60/62 [00:37<00:01,  1.62it/s]\u001b[A\n",
      "Validation DataLoader 0:  98%|█████████▊| 61/62 [00:37<00:00,  1.62it/s]\u001b[A\n",
      "Epoch 0: 100%|██████████| 100/100 [04:41<00:00,  2.82s/it, v_num=0]it/s]\u001b[A\n",
      "Epoch 1: 100%|██████████| 100/100 [03:53<00:00,  2.34s/it, v_num=0]     \u001b[A\n",
      "Validation: 0it [00:00, ?it/s]\u001b[A\n",
      "Validation:   0%|          | 0/62 [00:00<?, ?it/s]\u001b[A\n",
      "Validation DataLoader 0:   0%|          | 0/62 [00:00<?, ?it/s]\u001b[A\n",
      "Validation DataLoader 0:   2%|▏         | 1/62 [00:00<00:46,  1.31it/s]\u001b[A\n",
      "Validation DataLoader 0:   3%|▎         | 2/62 [00:01<00:41,  1.46it/s]\u001b[A\n",
      "Validation DataLoader 0:   5%|▍         | 3/62 [00:01<00:38,  1.52it/s]\u001b[A\n",
      "Validation DataLoader 0:   6%|▋         | 4/62 [00:02<00:37,  1.56it/s]\u001b[A\n",
      "Validation DataLoader 0:   8%|▊         | 5/62 [00:03<00:36,  1.58it/s]\u001b[A\n",
      "Validation DataLoader 0:  10%|▉         | 6/62 [00:03<00:34,  1.61it/s]\u001b[A\n",
      "Validation DataLoader 0:  11%|█▏        | 7/62 [00:04<00:33,  1.63it/s]\u001b[A\n",
      "Validation DataLoader 0:  13%|█▎        | 8/62 [00:04<00:32,  1.64it/s]\u001b[A\n",
      "Validation DataLoader 0:  15%|█▍        | 9/62 [00:05<00:32,  1.66it/s]\u001b[A\n",
      "Validation DataLoader 0:  16%|█▌        | 10/62 [00:06<00:31,  1.66it/s]\u001b[A\n",
      "Validation DataLoader 0:  18%|█▊        | 11/62 [00:06<00:30,  1.66it/s]\u001b[A\n",
      "Validation DataLoader 0:  19%|█▉        | 12/62 [00:07<00:30,  1.66it/s]\u001b[A\n",
      "Validation DataLoader 0:  21%|██        | 13/62 [00:07<00:29,  1.66it/s]\u001b[A\n",
      "Validation DataLoader 0:  23%|██▎       | 14/62 [00:08<00:28,  1.66it/s]\u001b[A\n",
      "Validation DataLoader 0:  24%|██▍       | 15/62 [00:09<00:28,  1.65it/s]\u001b[A\n",
      "Validation DataLoader 0:  26%|██▌       | 16/62 [00:09<00:27,  1.65it/s]\u001b[A\n",
      "Validation DataLoader 0:  27%|██▋       | 17/62 [00:10<00:27,  1.65it/s]\u001b[A\n",
      "Validation DataLoader 0:  29%|██▉       | 18/62 [00:10<00:26,  1.65it/s]\u001b[A\n",
      "Validation DataLoader 0:  31%|███       | 19/62 [00:11<00:26,  1.65it/s]\u001b[A\n",
      "Validation DataLoader 0:  32%|███▏      | 20/62 [00:12<00:25,  1.65it/s]\u001b[A\n",
      "Validation DataLoader 0:  34%|███▍      | 21/62 [00:12<00:24,  1.65it/s]\u001b[A\n",
      "Validation DataLoader 0:  35%|███▌      | 22/62 [00:13<00:24,  1.65it/s]\u001b[A\n",
      "Validation DataLoader 0:  37%|███▋      | 23/62 [00:13<00:23,  1.65it/s]\u001b[A\n",
      "Validation DataLoader 0:  39%|███▊      | 24/62 [00:14<00:23,  1.65it/s]\u001b[A\n",
      "Validation DataLoader 0:  40%|████      | 25/62 [00:15<00:22,  1.65it/s]\u001b[A"
     ]
    },
    {
     "name": "stderr",
     "output_type": "stream",
     "text": [
      "\u001b[2m\u001b[33m(raylet)\u001b[0m [2023-06-15 18:14:01,010 E 749 749] (raylet) node_manager.cc:3069: 2 Workers (tasks / actors) killed due to memory pressure (OOM), 0 Workers crashed due to other reasons at node (ID: 15ed7593e08c4814b0b6a3cab782ecf59902ea3f8e00e83c34b96460, IP: 169.255.255.2) over the last time period. To see more information about the Workers killed on this node, use `ray logs raylet.out -ip 169.255.255.2`\n",
      "\u001b[2m\u001b[33m(raylet)\u001b[0m \n",
      "\u001b[2m\u001b[33m(raylet)\u001b[0m Refer to the documentation on how to address the out of memory issue: https://docs.ray.io/en/latest/ray-core/scheduling/ray-oom-prevention.html. Consider provisioning more memory on this node or reducing task parallelism by requesting more CPUs per task. To adjust the kill threshold, set the environment variable `RAY_memory_usage_threshold` when starting Ray. To disable worker killing, set the environment variable `RAY_memory_monitor_refresh_ms` to zero.\n"
     ]
    },
    {
     "name": "stdout",
     "output_type": "stream",
     "text": [
      "\n",
      "Validation DataLoader 0:  42%|████▏     | 26/62 [00:15<00:21,  1.65it/s]\u001b[A\n",
      "Validation DataLoader 0:  44%|████▎     | 27/62 [00:16<00:21,  1.65it/s]\u001b[A\n",
      "Validation DataLoader 0:  45%|████▌     | 28/62 [00:16<00:20,  1.65it/s]\u001b[A\n",
      "Validation DataLoader 0:  47%|████▋     | 29/62 [00:17<00:20,  1.65it/s]\u001b[A\n",
      "Validation DataLoader 0:  48%|████▊     | 30/62 [00:18<00:19,  1.65it/s]\u001b[A\n",
      "Validation DataLoader 0:  50%|█████     | 31/62 [00:18<00:18,  1.65it/s]\u001b[A\n",
      "Validation DataLoader 0:  52%|█████▏    | 32/62 [00:19<00:18,  1.65it/s]\u001b[A\n",
      "Validation DataLoader 0:  53%|█████▎    | 33/62 [00:20<00:17,  1.65it/s]\u001b[A\n",
      "Validation DataLoader 0:  55%|█████▍    | 34/62 [00:20<00:16,  1.65it/s]\u001b[A\n",
      "Validation DataLoader 0:  56%|█████▋    | 35/62 [00:21<00:16,  1.65it/s]\u001b[A\n",
      "Validation DataLoader 0:  58%|█████▊    | 36/62 [00:21<00:15,  1.65it/s]\u001b[A\n",
      "Validation DataLoader 0:  60%|█████▉    | 37/62 [00:22<00:15,  1.65it/s]\u001b[A\n",
      "Validation DataLoader 0:  61%|██████▏   | 38/62 [00:23<00:14,  1.65it/s]\u001b[A\n",
      "Validation DataLoader 0:  63%|██████▎   | 39/62 [00:23<00:13,  1.65it/s]\u001b[A\n",
      "Validation DataLoader 0:  65%|██████▍   | 40/62 [00:24<00:13,  1.65it/s]\u001b[A\n",
      "Validation DataLoader 0:  66%|██████▌   | 41/62 [00:24<00:12,  1.65it/s]\u001b[A\n",
      "Validation DataLoader 0:  68%|██████▊   | 42/62 [00:25<00:12,  1.65it/s]\u001b[A\n",
      "Validation DataLoader 0:  69%|██████▉   | 43/62 [00:26<00:11,  1.65it/s]\u001b[A\n",
      "Validation DataLoader 0:  71%|███████   | 44/62 [00:26<00:10,  1.64it/s]\u001b[A\n",
      "Validation DataLoader 0:  73%|███████▎  | 45/62 [00:27<00:10,  1.64it/s]\u001b[A\n",
      "Validation DataLoader 0:  74%|███████▍  | 46/62 [00:27<00:09,  1.64it/s]\u001b[A\n",
      "Validation DataLoader 0:  76%|███████▌  | 47/62 [00:28<00:09,  1.64it/s]\u001b[A\n",
      "Validation DataLoader 0:  77%|███████▋  | 48/62 [00:29<00:08,  1.65it/s]\u001b[A\n",
      "Validation DataLoader 0:  79%|███████▉  | 49/62 [00:29<00:07,  1.65it/s]\u001b[A\n",
      "Validation DataLoader 0:  81%|████████  | 50/62 [00:30<00:07,  1.65it/s]\u001b[A\n",
      "Validation DataLoader 0:  82%|████████▏ | 51/62 [00:30<00:06,  1.65it/s]\u001b[A\n",
      "Validation DataLoader 0:  84%|████████▍ | 52/62 [00:31<00:06,  1.65it/s]\u001b[A\n",
      "Validation DataLoader 0:  85%|████████▌ | 53/62 [00:32<00:05,  1.65it/s]\u001b[A\n",
      "Validation DataLoader 0:  87%|████████▋ | 54/62 [00:32<00:04,  1.65it/s]\u001b[A\n",
      "Validation DataLoader 0:  89%|████████▊ | 55/62 [00:33<00:04,  1.65it/s]\u001b[A\n",
      "Validation DataLoader 0:  90%|█████████ | 56/62 [00:34<00:03,  1.65it/s]\u001b[A\n",
      "Validation DataLoader 0:  92%|█████████▏| 57/62 [00:34<00:03,  1.65it/s]\u001b[A\n",
      "Validation DataLoader 0:  94%|█████████▎| 58/62 [00:35<00:02,  1.64it/s]\u001b[A\n",
      "Validation DataLoader 0:  95%|█████████▌| 59/62 [00:35<00:01,  1.65it/s]\u001b[A\n",
      "Validation DataLoader 0:  97%|█████████▋| 60/62 [00:36<00:01,  1.65it/s]\u001b[A\n",
      "Validation DataLoader 0:  98%|█████████▊| 61/62 [00:36<00:00,  1.65it/s]\u001b[A\n",
      "Epoch 1: 100%|██████████| 100/100 [04:31<00:00,  2.72s/it, v_num=0]it/s]\u001b[A\n",
      "Epoch 1: 100%|██████████| 100/100 [04:31<00:00,  2.72s/it, v_num=0]     \u001b[A"
     ]
    },
    {
     "name": "stderr",
     "output_type": "stream",
     "text": [
      "`Trainer.fit` stopped: `max_epochs=2` reached.\n"
     ]
    },
    {
     "name": "stdout",
     "output_type": "stream",
     "text": [
      "Epoch 1: 100%|██████████| 100/100 [04:39<00:00,  2.80s/it, v_num=0]\n",
      "1.0\n"
     ]
    }
   ],
   "source": [
    "config = get_example_configs()\n",
    "results = objective(**config)\n",
    "print(results)"
   ]
  },
  {
   "cell_type": "code",
   "execution_count": null,
   "id": "35a44504-cb7b-4a37-b06a-f4b4dc5cf7cc",
   "metadata": {},
   "outputs": [],
   "source": []
  },
  {
   "cell_type": "code",
   "execution_count": 26,
   "id": "2bb301ba-6e0f-4b24-9120-c77f2a300203",
   "metadata": {
    "tags": []
   },
   "outputs": [
    {
     "data": {
      "text/plain": [
       "['epoch=1-step=200.ckpt']"
      ]
     },
     "execution_count": 26,
     "metadata": {},
     "output_type": "execute_result"
    }
   ],
   "source": [
    "import os\n",
    "\n",
    "os.listdir('./outputs/example/csv_log/version_0/checkpoints')"
   ]
  },
  {
   "cell_type": "code",
   "execution_count": null,
   "id": "6dfd515c-caac-45e8-b4e1-49a10ddf8bc0",
   "metadata": {},
   "outputs": [],
   "source": []
  },
  {
   "cell_type": "code",
   "execution_count": 18,
   "id": "28b14881-4895-47c3-9247-c94c8699b6d9",
   "metadata": {
    "tags": []
   },
   "outputs": [],
   "source": [
    "from ray import tune\n",
    "from ray.tune.schedulers import ASHAScheduler"
   ]
  },
  {
   "cell_type": "code",
   "execution_count": 19,
   "id": "bc94f546-2c59-4566-ac00-6307a667f8e5",
   "metadata": {
    "tags": []
   },
   "outputs": [],
   "source": [
    "def get_raytune_config():\n",
    "    exp_name = 'hyperoptim_example'\n",
    "    root_dir = f\"./outputs/{exp_name}\"\n",
    "    objective_metric = 'val_loss'\n",
    "    objective_mode = \"min\"\n",
    "    configs = {\n",
    "        # init args pairs\n",
    "        'dataloader': {\n",
    "            'wce.WCEStandardNpyDataloader': {\n",
    "                'dataset_dir': './data/std_npy',\n",
    "                'batch_size': tune.choice([16, 32, 64]),\n",
    "                'num_workers': 4,\n",
    "                'drop_last': True,\n",
    "                'shuffle': True\n",
    "        }},\n",
    "        'model': {\n",
    "            'wce.WCETransferModel':{\n",
    "                'base_model': 'alexnet', \n",
    "                'num_proj': tune.choice([2, 4]), \n",
    "                'hid_feature': tune.choice([64, 256]), \n",
    "                'hid_bias': tune.choice([True, False]),\n",
    "                'hid_activation': 'relu',\n",
    "        }},\n",
    "        'pl_module': {\n",
    "            'train.SupervisedClfModule': {\n",
    "                'optim_name': 'adam',\n",
    "                'lr': tune.choice([1e-5, 1e-4]),\n",
    "        }},\n",
    "        #### pl.Trainer args\n",
    "        'default_root_dir': root_dir,\n",
    "        'max_epochs':1,\n",
    "        # 'accelerator':\"gpu\", \n",
    "        # 'devices':0,\n",
    "        # 'fast_dev_run':True,\n",
    "        #### others\n",
    "        'exp_name': exp_name,\n",
    "        'objective_metric': objective_metric,\n",
    "        'objective_mode': objective_mode,\n",
    "        'num_trials': 3,\n",
    "        'cpu_per_trial':1,\n",
    "        'gpu_per_trial':0,\n",
    "    }\n",
    "    return configs"
   ]
  },
  {
   "cell_type": "code",
   "execution_count": 24,
   "id": "b2f522bc-5283-4f9c-bfaf-93433cb230dd",
   "metadata": {
    "tags": []
   },
   "outputs": [
    {
     "ename": "ValueError",
     "evalue": "Unknown argument found in the Trainable function. The function args must include a 'config' positional parameter. Any other args must be 'checkpoint_dir'. Found: []",
     "output_type": "error",
     "traceback": [
      "\u001b[0;31m---------------------------------------------------------------------------\u001b[0m",
      "\u001b[0;31mValueError\u001b[0m                                Traceback (most recent call last)",
      "\u001b[0;32m<ipython-input-24-74a05219742a>\u001b[0m in \u001b[0;36m<module>\u001b[0;34m\u001b[0m\n\u001b[1;32m     42\u001b[0m \u001b[0;34m\u001b[0m\u001b[0m\n\u001b[1;32m     43\u001b[0m \u001b[0mconfig\u001b[0m \u001b[0;34m=\u001b[0m \u001b[0mget_raytune_config\u001b[0m\u001b[0;34m(\u001b[0m\u001b[0;34m)\u001b[0m\u001b[0;34m\u001b[0m\u001b[0;34m\u001b[0m\u001b[0m\n\u001b[0;32m---> 44\u001b[0;31m \u001b[0mresults\u001b[0m \u001b[0;34m=\u001b[0m \u001b[0mraytune_job\u001b[0m\u001b[0;34m(\u001b[0m\u001b[0mobjective\u001b[0m\u001b[0;34m,\u001b[0m\u001b[0mconfig\u001b[0m\u001b[0;34m)\u001b[0m\u001b[0;34m\u001b[0m\u001b[0;34m\u001b[0m\u001b[0m\n\u001b[0m\u001b[1;32m     45\u001b[0m \u001b[0mprint\u001b[0m\u001b[0;34m(\u001b[0m\u001b[0mresults\u001b[0m\u001b[0;34m)\u001b[0m\u001b[0;34m\u001b[0m\u001b[0;34m\u001b[0m\u001b[0m\n",
      "\u001b[0;32m<ipython-input-24-74a05219742a>\u001b[0m in \u001b[0;36mraytune_job\u001b[0;34m(objective, config)\u001b[0m\n\u001b[1;32m     18\u001b[0m     )\n\u001b[1;32m     19\u001b[0m \u001b[0;34m\u001b[0m\u001b[0m\n\u001b[0;32m---> 20\u001b[0;31m     analysis = tune.run(\n\u001b[0m\u001b[1;32m     21\u001b[0m         \u001b[0mobjective\u001b[0m\u001b[0;34m,\u001b[0m\u001b[0;34m\u001b[0m\u001b[0;34m\u001b[0m\u001b[0m\n\u001b[1;32m     22\u001b[0m         resources_per_trial={\n",
      "\u001b[0;32m/opt/conda/lib/python3.8/site-packages/ray/tune/tune.py\u001b[0m in \u001b[0;36mrun\u001b[0;34m(run_or_experiment, name, metric, mode, stop, time_budget_s, config, resources_per_trial, num_samples, storage_path, search_alg, scheduler, keep_checkpoints_num, checkpoint_score_attr, checkpoint_freq, checkpoint_at_end, checkpoint_keep_all_ranks, checkpoint_upload_from_workers, verbose, progress_reporter, log_to_file, trial_name_creator, trial_dirname_creator, chdir_to_trial_dir, sync_config, export_formats, max_failures, fail_fast, restore, server_port, resume, reuse_actors, raise_on_failed_trial, callbacks, max_concurrent_trials, trial_executor, local_dir, _experiment_checkpoint_dir, _remote, _remote_string_queue, _entrypoint)\u001b[0m\n\u001b[1;32m    819\u001b[0m     \u001b[0;32mfor\u001b[0m \u001b[0mi\u001b[0m\u001b[0;34m,\u001b[0m \u001b[0mexp\u001b[0m \u001b[0;32min\u001b[0m \u001b[0menumerate\u001b[0m\u001b[0;34m(\u001b[0m\u001b[0mexperiments\u001b[0m\u001b[0;34m)\u001b[0m\u001b[0;34m:\u001b[0m\u001b[0;34m\u001b[0m\u001b[0;34m\u001b[0m\u001b[0m\n\u001b[1;32m    820\u001b[0m         \u001b[0;32mif\u001b[0m \u001b[0;32mnot\u001b[0m \u001b[0misinstance\u001b[0m\u001b[0;34m(\u001b[0m\u001b[0mexp\u001b[0m\u001b[0;34m,\u001b[0m \u001b[0mExperiment\u001b[0m\u001b[0;34m)\u001b[0m\u001b[0;34m:\u001b[0m\u001b[0;34m\u001b[0m\u001b[0;34m\u001b[0m\u001b[0m\n\u001b[0;32m--> 821\u001b[0;31m             experiments[i] = Experiment(\n\u001b[0m\u001b[1;32m    822\u001b[0m                 \u001b[0mname\u001b[0m\u001b[0;34m=\u001b[0m\u001b[0mname\u001b[0m\u001b[0;34m,\u001b[0m\u001b[0;34m\u001b[0m\u001b[0;34m\u001b[0m\u001b[0m\n\u001b[1;32m    823\u001b[0m                 \u001b[0mrun\u001b[0m\u001b[0;34m=\u001b[0m\u001b[0mexp\u001b[0m\u001b[0;34m,\u001b[0m\u001b[0;34m\u001b[0m\u001b[0;34m\u001b[0m\u001b[0m\n",
      "\u001b[0;32m/opt/conda/lib/python3.8/site-packages/ray/tune/experiment/experiment.py\u001b[0m in \u001b[0;36m__init__\u001b[0;34m(self, name, run, stop, time_budget_s, config, resources_per_trial, num_samples, storage_path, _experiment_checkpoint_dir, sync_config, checkpoint_config, trial_name_creator, trial_dirname_creator, log_to_file, export_formats, max_failures, restore, local_dir)\u001b[0m\n\u001b[1;32m    217\u001b[0m                 )\n\u001b[1;32m    218\u001b[0m         \u001b[0;32mtry\u001b[0m\u001b[0;34m:\u001b[0m\u001b[0;34m\u001b[0m\u001b[0;34m\u001b[0m\u001b[0m\n\u001b[0;32m--> 219\u001b[0;31m             \u001b[0mself\u001b[0m\u001b[0;34m.\u001b[0m\u001b[0m_run_identifier\u001b[0m \u001b[0;34m=\u001b[0m \u001b[0mExperiment\u001b[0m\u001b[0;34m.\u001b[0m\u001b[0mregister_if_needed\u001b[0m\u001b[0;34m(\u001b[0m\u001b[0mrun\u001b[0m\u001b[0;34m)\u001b[0m\u001b[0;34m\u001b[0m\u001b[0;34m\u001b[0m\u001b[0m\n\u001b[0m\u001b[1;32m    220\u001b[0m         \u001b[0;32mexcept\u001b[0m \u001b[0mRpcError\u001b[0m \u001b[0;32mas\u001b[0m \u001b[0me\u001b[0m\u001b[0;34m:\u001b[0m\u001b[0;34m\u001b[0m\u001b[0;34m\u001b[0m\u001b[0m\n\u001b[1;32m    221\u001b[0m             \u001b[0;32mif\u001b[0m \u001b[0me\u001b[0m\u001b[0;34m.\u001b[0m\u001b[0mrpc_code\u001b[0m \u001b[0;34m==\u001b[0m \u001b[0mgrpc\u001b[0m\u001b[0;34m.\u001b[0m\u001b[0mStatusCode\u001b[0m\u001b[0;34m.\u001b[0m\u001b[0mRESOURCE_EXHAUSTED\u001b[0m\u001b[0;34m.\u001b[0m\u001b[0mvalue\u001b[0m\u001b[0;34m[\u001b[0m\u001b[0;36m0\u001b[0m\u001b[0;34m]\u001b[0m\u001b[0;34m:\u001b[0m\u001b[0;34m\u001b[0m\u001b[0;34m\u001b[0m\u001b[0m\n",
      "\u001b[0;32m/opt/conda/lib/python3.8/site-packages/ray/tune/experiment/experiment.py\u001b[0m in \u001b[0;36mregister_if_needed\u001b[0;34m(cls, run_object)\u001b[0m\n\u001b[1;32m    409\u001b[0m         \u001b[0mname\u001b[0m \u001b[0;34m=\u001b[0m \u001b[0mcls\u001b[0m\u001b[0;34m.\u001b[0m\u001b[0mget_trainable_name\u001b[0m\u001b[0;34m(\u001b[0m\u001b[0mrun_object\u001b[0m\u001b[0;34m)\u001b[0m\u001b[0;34m\u001b[0m\u001b[0;34m\u001b[0m\u001b[0m\n\u001b[1;32m    410\u001b[0m         \u001b[0;32mtry\u001b[0m\u001b[0;34m:\u001b[0m\u001b[0;34m\u001b[0m\u001b[0;34m\u001b[0m\u001b[0m\n\u001b[0;32m--> 411\u001b[0;31m             \u001b[0mregister_trainable\u001b[0m\u001b[0;34m(\u001b[0m\u001b[0mname\u001b[0m\u001b[0;34m,\u001b[0m \u001b[0mrun_object\u001b[0m\u001b[0;34m)\u001b[0m\u001b[0;34m\u001b[0m\u001b[0;34m\u001b[0m\u001b[0m\n\u001b[0m\u001b[1;32m    412\u001b[0m         \u001b[0;32mexcept\u001b[0m \u001b[0;34m(\u001b[0m\u001b[0mTypeError\u001b[0m\u001b[0;34m,\u001b[0m \u001b[0mPicklingError\u001b[0m\u001b[0;34m)\u001b[0m \u001b[0;32mas\u001b[0m \u001b[0me\u001b[0m\u001b[0;34m:\u001b[0m\u001b[0;34m\u001b[0m\u001b[0;34m\u001b[0m\u001b[0m\n\u001b[1;32m    413\u001b[0m             extra_msg = (\n",
      "\u001b[0;32m/opt/conda/lib/python3.8/site-packages/ray/tune/registry.py\u001b[0m in \u001b[0;36mregister_trainable\u001b[0;34m(name, trainable, warn)\u001b[0m\n\u001b[1;32m    103\u001b[0m     \u001b[0;32melif\u001b[0m \u001b[0misinstance\u001b[0m\u001b[0;34m(\u001b[0m\u001b[0mtrainable\u001b[0m\u001b[0;34m,\u001b[0m \u001b[0mFunctionType\u001b[0m\u001b[0;34m)\u001b[0m \u001b[0;32mor\u001b[0m \u001b[0misinstance\u001b[0m\u001b[0;34m(\u001b[0m\u001b[0mtrainable\u001b[0m\u001b[0;34m,\u001b[0m \u001b[0mpartial\u001b[0m\u001b[0;34m)\u001b[0m\u001b[0;34m:\u001b[0m\u001b[0;34m\u001b[0m\u001b[0;34m\u001b[0m\u001b[0m\n\u001b[1;32m    104\u001b[0m         \u001b[0mlogger\u001b[0m\u001b[0;34m.\u001b[0m\u001b[0mdebug\u001b[0m\u001b[0;34m(\u001b[0m\u001b[0;34m\"Detected function for trainable.\"\u001b[0m\u001b[0;34m)\u001b[0m\u001b[0;34m\u001b[0m\u001b[0;34m\u001b[0m\u001b[0m\n\u001b[0;32m--> 105\u001b[0;31m         \u001b[0mtrainable\u001b[0m \u001b[0;34m=\u001b[0m \u001b[0mwrap_function\u001b[0m\u001b[0;34m(\u001b[0m\u001b[0mtrainable\u001b[0m\u001b[0;34m,\u001b[0m \u001b[0mwarn\u001b[0m\u001b[0;34m=\u001b[0m\u001b[0mwarn\u001b[0m\u001b[0;34m)\u001b[0m\u001b[0;34m\u001b[0m\u001b[0;34m\u001b[0m\u001b[0m\n\u001b[0m\u001b[1;32m    106\u001b[0m     \u001b[0;32melif\u001b[0m \u001b[0mcallable\u001b[0m\u001b[0;34m(\u001b[0m\u001b[0mtrainable\u001b[0m\u001b[0;34m)\u001b[0m\u001b[0;34m:\u001b[0m\u001b[0;34m\u001b[0m\u001b[0;34m\u001b[0m\u001b[0m\n\u001b[1;32m    107\u001b[0m         \u001b[0mlogger\u001b[0m\u001b[0;34m.\u001b[0m\u001b[0minfo\u001b[0m\u001b[0;34m(\u001b[0m\u001b[0;34m\"Detected unknown callable for trainable. Converting to class.\"\u001b[0m\u001b[0;34m)\u001b[0m\u001b[0;34m\u001b[0m\u001b[0;34m\u001b[0m\u001b[0m\n",
      "\u001b[0;32m/opt/conda/lib/python3.8/site-packages/ray/tune/trainable/function_trainable.py\u001b[0m in \u001b[0;36mwrap_function\u001b[0;34m(train_func, warn, name)\u001b[0m\n\u001b[1;32m    586\u001b[0m     \u001b[0;32mif\u001b[0m \u001b[0;32mnot\u001b[0m \u001b[0many\u001b[0m\u001b[0;34m(\u001b[0m\u001b[0;34m[\u001b[0m\u001b[0muse_checkpoint\u001b[0m\u001b[0;34m,\u001b[0m \u001b[0muse_config_single\u001b[0m\u001b[0;34m,\u001b[0m \u001b[0muse_reporter\u001b[0m\u001b[0;34m]\u001b[0m\u001b[0;34m)\u001b[0m\u001b[0;34m:\u001b[0m\u001b[0;34m\u001b[0m\u001b[0;34m\u001b[0m\u001b[0m\n\u001b[1;32m    587\u001b[0m         \u001b[0;31m# use_reporter is hidden\u001b[0m\u001b[0;34m\u001b[0m\u001b[0;34m\u001b[0m\u001b[0;34m\u001b[0m\u001b[0m\n\u001b[0;32m--> 588\u001b[0;31m         raise ValueError(\n\u001b[0m\u001b[1;32m    589\u001b[0m             \u001b[0;34m\"Unknown argument found in the Trainable function. \"\u001b[0m\u001b[0;34m\u001b[0m\u001b[0;34m\u001b[0m\u001b[0m\n\u001b[1;32m    590\u001b[0m             \u001b[0;34m\"The function args must include a 'config' positional \"\u001b[0m\u001b[0;34m\u001b[0m\u001b[0;34m\u001b[0m\u001b[0m\n",
      "\u001b[0;31mValueError\u001b[0m: Unknown argument found in the Trainable function. The function args must include a 'config' positional parameter. Any other args must be 'checkpoint_dir'. Found: []"
     ]
    }
   ],
   "source": [
    "def raytune_job(objective,config):\n",
    "\n",
    "    raytune_config = {}\n",
    "    raytune_config.update(config)\n",
    "    \n",
    "    exp_name = config['exp_name']\n",
    "    objective_metric = config['objective_metric']\n",
    "    objective_mode = config['objective_mode']\n",
    "    num_trials = config['num_trials']\n",
    "    cpu_per_trial = config.get('cpu_per_trial',1)\n",
    "    gpus_per_trial = config.get('gpu_per_trial',1)\n",
    "    \n",
    "    \n",
    "    scheduler = ASHAScheduler(\n",
    "        metric=objective_metric,\n",
    "        mode=objective_mode,\n",
    "        max_t=config['max_epochs'],\n",
    "    )\n",
    "\n",
    "    analysis = tune.run(\n",
    "        objective,\n",
    "        resources_per_trial={\n",
    "            \"cpu\": cpu_per_trial,\n",
    "            \"gpu\": gpus_per_trial,\n",
    "        },\n",
    "        metric=objective_metric,\n",
    "        mode=objective_mode,\n",
    "        config=raytune_config,\n",
    "        num_samples=num_trials,\n",
    "        name=exp_name,\n",
    "        scheduler=scheduler,\n",
    "    )\n",
    "    \n",
    "    best_config = analysis.best_config\n",
    "\n",
    "    write_json(best_config,os.path.join(args['default_root_dir'],'best_config.json'))\n",
    "    \n",
    "    return best_config\n",
    "\n",
    "    \n",
    "\n",
    "\n",
    "config = get_raytune_config()\n",
    "results = raytune_job(objective,config)\n",
    "print(results)"
   ]
  },
  {
   "cell_type": "code",
   "execution_count": null,
   "id": "88660145-87fc-40e4-bed9-26f7ec2ba54a",
   "metadata": {},
   "outputs": [],
   "source": []
  }
 ],
 "metadata": {
  "availableInstances": [
   {
    "_defaultOrder": 0,
    "_isFastLaunch": true,
    "category": "General purpose",
    "gpuNum": 0,
    "hideHardwareSpecs": false,
    "memoryGiB": 4,
    "name": "ml.t3.medium",
    "vcpuNum": 2
   },
   {
    "_defaultOrder": 1,
    "_isFastLaunch": false,
    "category": "General purpose",
    "gpuNum": 0,
    "hideHardwareSpecs": false,
    "memoryGiB": 8,
    "name": "ml.t3.large",
    "vcpuNum": 2
   },
   {
    "_defaultOrder": 2,
    "_isFastLaunch": false,
    "category": "General purpose",
    "gpuNum": 0,
    "hideHardwareSpecs": false,
    "memoryGiB": 16,
    "name": "ml.t3.xlarge",
    "vcpuNum": 4
   },
   {
    "_defaultOrder": 3,
    "_isFastLaunch": false,
    "category": "General purpose",
    "gpuNum": 0,
    "hideHardwareSpecs": false,
    "memoryGiB": 32,
    "name": "ml.t3.2xlarge",
    "vcpuNum": 8
   },
   {
    "_defaultOrder": 4,
    "_isFastLaunch": true,
    "category": "General purpose",
    "gpuNum": 0,
    "hideHardwareSpecs": false,
    "memoryGiB": 8,
    "name": "ml.m5.large",
    "vcpuNum": 2
   },
   {
    "_defaultOrder": 5,
    "_isFastLaunch": false,
    "category": "General purpose",
    "gpuNum": 0,
    "hideHardwareSpecs": false,
    "memoryGiB": 16,
    "name": "ml.m5.xlarge",
    "vcpuNum": 4
   },
   {
    "_defaultOrder": 6,
    "_isFastLaunch": false,
    "category": "General purpose",
    "gpuNum": 0,
    "hideHardwareSpecs": false,
    "memoryGiB": 32,
    "name": "ml.m5.2xlarge",
    "vcpuNum": 8
   },
   {
    "_defaultOrder": 7,
    "_isFastLaunch": false,
    "category": "General purpose",
    "gpuNum": 0,
    "hideHardwareSpecs": false,
    "memoryGiB": 64,
    "name": "ml.m5.4xlarge",
    "vcpuNum": 16
   },
   {
    "_defaultOrder": 8,
    "_isFastLaunch": false,
    "category": "General purpose",
    "gpuNum": 0,
    "hideHardwareSpecs": false,
    "memoryGiB": 128,
    "name": "ml.m5.8xlarge",
    "vcpuNum": 32
   },
   {
    "_defaultOrder": 9,
    "_isFastLaunch": false,
    "category": "General purpose",
    "gpuNum": 0,
    "hideHardwareSpecs": false,
    "memoryGiB": 192,
    "name": "ml.m5.12xlarge",
    "vcpuNum": 48
   },
   {
    "_defaultOrder": 10,
    "_isFastLaunch": false,
    "category": "General purpose",
    "gpuNum": 0,
    "hideHardwareSpecs": false,
    "memoryGiB": 256,
    "name": "ml.m5.16xlarge",
    "vcpuNum": 64
   },
   {
    "_defaultOrder": 11,
    "_isFastLaunch": false,
    "category": "General purpose",
    "gpuNum": 0,
    "hideHardwareSpecs": false,
    "memoryGiB": 384,
    "name": "ml.m5.24xlarge",
    "vcpuNum": 96
   },
   {
    "_defaultOrder": 12,
    "_isFastLaunch": false,
    "category": "General purpose",
    "gpuNum": 0,
    "hideHardwareSpecs": false,
    "memoryGiB": 8,
    "name": "ml.m5d.large",
    "vcpuNum": 2
   },
   {
    "_defaultOrder": 13,
    "_isFastLaunch": false,
    "category": "General purpose",
    "gpuNum": 0,
    "hideHardwareSpecs": false,
    "memoryGiB": 16,
    "name": "ml.m5d.xlarge",
    "vcpuNum": 4
   },
   {
    "_defaultOrder": 14,
    "_isFastLaunch": false,
    "category": "General purpose",
    "gpuNum": 0,
    "hideHardwareSpecs": false,
    "memoryGiB": 32,
    "name": "ml.m5d.2xlarge",
    "vcpuNum": 8
   },
   {
    "_defaultOrder": 15,
    "_isFastLaunch": false,
    "category": "General purpose",
    "gpuNum": 0,
    "hideHardwareSpecs": false,
    "memoryGiB": 64,
    "name": "ml.m5d.4xlarge",
    "vcpuNum": 16
   },
   {
    "_defaultOrder": 16,
    "_isFastLaunch": false,
    "category": "General purpose",
    "gpuNum": 0,
    "hideHardwareSpecs": false,
    "memoryGiB": 128,
    "name": "ml.m5d.8xlarge",
    "vcpuNum": 32
   },
   {
    "_defaultOrder": 17,
    "_isFastLaunch": false,
    "category": "General purpose",
    "gpuNum": 0,
    "hideHardwareSpecs": false,
    "memoryGiB": 192,
    "name": "ml.m5d.12xlarge",
    "vcpuNum": 48
   },
   {
    "_defaultOrder": 18,
    "_isFastLaunch": false,
    "category": "General purpose",
    "gpuNum": 0,
    "hideHardwareSpecs": false,
    "memoryGiB": 256,
    "name": "ml.m5d.16xlarge",
    "vcpuNum": 64
   },
   {
    "_defaultOrder": 19,
    "_isFastLaunch": false,
    "category": "General purpose",
    "gpuNum": 0,
    "hideHardwareSpecs": false,
    "memoryGiB": 384,
    "name": "ml.m5d.24xlarge",
    "vcpuNum": 96
   },
   {
    "_defaultOrder": 20,
    "_isFastLaunch": false,
    "category": "General purpose",
    "gpuNum": 0,
    "hideHardwareSpecs": true,
    "memoryGiB": 0,
    "name": "ml.geospatial.interactive",
    "supportedImageNames": [
     "sagemaker-geospatial-v1-0"
    ],
    "vcpuNum": 0
   },
   {
    "_defaultOrder": 21,
    "_isFastLaunch": true,
    "category": "Compute optimized",
    "gpuNum": 0,
    "hideHardwareSpecs": false,
    "memoryGiB": 4,
    "name": "ml.c5.large",
    "vcpuNum": 2
   },
   {
    "_defaultOrder": 22,
    "_isFastLaunch": false,
    "category": "Compute optimized",
    "gpuNum": 0,
    "hideHardwareSpecs": false,
    "memoryGiB": 8,
    "name": "ml.c5.xlarge",
    "vcpuNum": 4
   },
   {
    "_defaultOrder": 23,
    "_isFastLaunch": false,
    "category": "Compute optimized",
    "gpuNum": 0,
    "hideHardwareSpecs": false,
    "memoryGiB": 16,
    "name": "ml.c5.2xlarge",
    "vcpuNum": 8
   },
   {
    "_defaultOrder": 24,
    "_isFastLaunch": false,
    "category": "Compute optimized",
    "gpuNum": 0,
    "hideHardwareSpecs": false,
    "memoryGiB": 32,
    "name": "ml.c5.4xlarge",
    "vcpuNum": 16
   },
   {
    "_defaultOrder": 25,
    "_isFastLaunch": false,
    "category": "Compute optimized",
    "gpuNum": 0,
    "hideHardwareSpecs": false,
    "memoryGiB": 72,
    "name": "ml.c5.9xlarge",
    "vcpuNum": 36
   },
   {
    "_defaultOrder": 26,
    "_isFastLaunch": false,
    "category": "Compute optimized",
    "gpuNum": 0,
    "hideHardwareSpecs": false,
    "memoryGiB": 96,
    "name": "ml.c5.12xlarge",
    "vcpuNum": 48
   },
   {
    "_defaultOrder": 27,
    "_isFastLaunch": false,
    "category": "Compute optimized",
    "gpuNum": 0,
    "hideHardwareSpecs": false,
    "memoryGiB": 144,
    "name": "ml.c5.18xlarge",
    "vcpuNum": 72
   },
   {
    "_defaultOrder": 28,
    "_isFastLaunch": false,
    "category": "Compute optimized",
    "gpuNum": 0,
    "hideHardwareSpecs": false,
    "memoryGiB": 192,
    "name": "ml.c5.24xlarge",
    "vcpuNum": 96
   },
   {
    "_defaultOrder": 29,
    "_isFastLaunch": true,
    "category": "Accelerated computing",
    "gpuNum": 1,
    "hideHardwareSpecs": false,
    "memoryGiB": 16,
    "name": "ml.g4dn.xlarge",
    "vcpuNum": 4
   },
   {
    "_defaultOrder": 30,
    "_isFastLaunch": false,
    "category": "Accelerated computing",
    "gpuNum": 1,
    "hideHardwareSpecs": false,
    "memoryGiB": 32,
    "name": "ml.g4dn.2xlarge",
    "vcpuNum": 8
   },
   {
    "_defaultOrder": 31,
    "_isFastLaunch": false,
    "category": "Accelerated computing",
    "gpuNum": 1,
    "hideHardwareSpecs": false,
    "memoryGiB": 64,
    "name": "ml.g4dn.4xlarge",
    "vcpuNum": 16
   },
   {
    "_defaultOrder": 32,
    "_isFastLaunch": false,
    "category": "Accelerated computing",
    "gpuNum": 1,
    "hideHardwareSpecs": false,
    "memoryGiB": 128,
    "name": "ml.g4dn.8xlarge",
    "vcpuNum": 32
   },
   {
    "_defaultOrder": 33,
    "_isFastLaunch": false,
    "category": "Accelerated computing",
    "gpuNum": 4,
    "hideHardwareSpecs": false,
    "memoryGiB": 192,
    "name": "ml.g4dn.12xlarge",
    "vcpuNum": 48
   },
   {
    "_defaultOrder": 34,
    "_isFastLaunch": false,
    "category": "Accelerated computing",
    "gpuNum": 1,
    "hideHardwareSpecs": false,
    "memoryGiB": 256,
    "name": "ml.g4dn.16xlarge",
    "vcpuNum": 64
   },
   {
    "_defaultOrder": 35,
    "_isFastLaunch": false,
    "category": "Accelerated computing",
    "gpuNum": 1,
    "hideHardwareSpecs": false,
    "memoryGiB": 61,
    "name": "ml.p3.2xlarge",
    "vcpuNum": 8
   },
   {
    "_defaultOrder": 36,
    "_isFastLaunch": false,
    "category": "Accelerated computing",
    "gpuNum": 4,
    "hideHardwareSpecs": false,
    "memoryGiB": 244,
    "name": "ml.p3.8xlarge",
    "vcpuNum": 32
   },
   {
    "_defaultOrder": 37,
    "_isFastLaunch": false,
    "category": "Accelerated computing",
    "gpuNum": 8,
    "hideHardwareSpecs": false,
    "memoryGiB": 488,
    "name": "ml.p3.16xlarge",
    "vcpuNum": 64
   },
   {
    "_defaultOrder": 38,
    "_isFastLaunch": false,
    "category": "Accelerated computing",
    "gpuNum": 8,
    "hideHardwareSpecs": false,
    "memoryGiB": 768,
    "name": "ml.p3dn.24xlarge",
    "vcpuNum": 96
   },
   {
    "_defaultOrder": 39,
    "_isFastLaunch": false,
    "category": "Memory Optimized",
    "gpuNum": 0,
    "hideHardwareSpecs": false,
    "memoryGiB": 16,
    "name": "ml.r5.large",
    "vcpuNum": 2
   },
   {
    "_defaultOrder": 40,
    "_isFastLaunch": false,
    "category": "Memory Optimized",
    "gpuNum": 0,
    "hideHardwareSpecs": false,
    "memoryGiB": 32,
    "name": "ml.r5.xlarge",
    "vcpuNum": 4
   },
   {
    "_defaultOrder": 41,
    "_isFastLaunch": false,
    "category": "Memory Optimized",
    "gpuNum": 0,
    "hideHardwareSpecs": false,
    "memoryGiB": 64,
    "name": "ml.r5.2xlarge",
    "vcpuNum": 8
   },
   {
    "_defaultOrder": 42,
    "_isFastLaunch": false,
    "category": "Memory Optimized",
    "gpuNum": 0,
    "hideHardwareSpecs": false,
    "memoryGiB": 128,
    "name": "ml.r5.4xlarge",
    "vcpuNum": 16
   },
   {
    "_defaultOrder": 43,
    "_isFastLaunch": false,
    "category": "Memory Optimized",
    "gpuNum": 0,
    "hideHardwareSpecs": false,
    "memoryGiB": 256,
    "name": "ml.r5.8xlarge",
    "vcpuNum": 32
   },
   {
    "_defaultOrder": 44,
    "_isFastLaunch": false,
    "category": "Memory Optimized",
    "gpuNum": 0,
    "hideHardwareSpecs": false,
    "memoryGiB": 384,
    "name": "ml.r5.12xlarge",
    "vcpuNum": 48
   },
   {
    "_defaultOrder": 45,
    "_isFastLaunch": false,
    "category": "Memory Optimized",
    "gpuNum": 0,
    "hideHardwareSpecs": false,
    "memoryGiB": 512,
    "name": "ml.r5.16xlarge",
    "vcpuNum": 64
   },
   {
    "_defaultOrder": 46,
    "_isFastLaunch": false,
    "category": "Memory Optimized",
    "gpuNum": 0,
    "hideHardwareSpecs": false,
    "memoryGiB": 768,
    "name": "ml.r5.24xlarge",
    "vcpuNum": 96
   },
   {
    "_defaultOrder": 47,
    "_isFastLaunch": false,
    "category": "Accelerated computing",
    "gpuNum": 1,
    "hideHardwareSpecs": false,
    "memoryGiB": 16,
    "name": "ml.g5.xlarge",
    "vcpuNum": 4
   },
   {
    "_defaultOrder": 48,
    "_isFastLaunch": false,
    "category": "Accelerated computing",
    "gpuNum": 1,
    "hideHardwareSpecs": false,
    "memoryGiB": 32,
    "name": "ml.g5.2xlarge",
    "vcpuNum": 8
   },
   {
    "_defaultOrder": 49,
    "_isFastLaunch": false,
    "category": "Accelerated computing",
    "gpuNum": 1,
    "hideHardwareSpecs": false,
    "memoryGiB": 64,
    "name": "ml.g5.4xlarge",
    "vcpuNum": 16
   },
   {
    "_defaultOrder": 50,
    "_isFastLaunch": false,
    "category": "Accelerated computing",
    "gpuNum": 1,
    "hideHardwareSpecs": false,
    "memoryGiB": 128,
    "name": "ml.g5.8xlarge",
    "vcpuNum": 32
   },
   {
    "_defaultOrder": 51,
    "_isFastLaunch": false,
    "category": "Accelerated computing",
    "gpuNum": 1,
    "hideHardwareSpecs": false,
    "memoryGiB": 256,
    "name": "ml.g5.16xlarge",
    "vcpuNum": 64
   },
   {
    "_defaultOrder": 52,
    "_isFastLaunch": false,
    "category": "Accelerated computing",
    "gpuNum": 4,
    "hideHardwareSpecs": false,
    "memoryGiB": 192,
    "name": "ml.g5.12xlarge",
    "vcpuNum": 48
   },
   {
    "_defaultOrder": 53,
    "_isFastLaunch": false,
    "category": "Accelerated computing",
    "gpuNum": 4,
    "hideHardwareSpecs": false,
    "memoryGiB": 384,
    "name": "ml.g5.24xlarge",
    "vcpuNum": 96
   },
   {
    "_defaultOrder": 54,
    "_isFastLaunch": false,
    "category": "Accelerated computing",
    "gpuNum": 8,
    "hideHardwareSpecs": false,
    "memoryGiB": 768,
    "name": "ml.g5.48xlarge",
    "vcpuNum": 192
   },
   {
    "_defaultOrder": 55,
    "_isFastLaunch": false,
    "category": "Accelerated computing",
    "gpuNum": 8,
    "hideHardwareSpecs": false,
    "memoryGiB": 1152,
    "name": "ml.p4d.24xlarge",
    "vcpuNum": 96
   },
   {
    "_defaultOrder": 56,
    "_isFastLaunch": false,
    "category": "Accelerated computing",
    "gpuNum": 8,
    "hideHardwareSpecs": false,
    "memoryGiB": 1152,
    "name": "ml.p4de.24xlarge",
    "vcpuNum": 96
   }
  ],
  "instance_type": "ml.t3.medium",
  "kernelspec": {
   "display_name": "Python 3 (PyTorch 1.12 Python 3.8 CPU Optimized)",
   "language": "python",
   "name": "python3__SAGEMAKER_INTERNAL__arn:aws:sagemaker:us-east-1:081325390199:image/pytorch-1.12-cpu-py38"
  },
  "language_info": {
   "codemirror_mode": {
    "name": "ipython",
    "version": 3
   },
   "file_extension": ".py",
   "mimetype": "text/x-python",
   "name": "python",
   "nbconvert_exporter": "python",
   "pygments_lexer": "ipython3",
   "version": "3.8.16"
  }
 },
 "nbformat": 4,
 "nbformat_minor": 5
}
